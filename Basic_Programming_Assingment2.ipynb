{
 "cells": [
  {
   "cell_type": "code",
   "execution_count": null,
   "id": "40ec2829",
   "metadata": {},
   "outputs": [],
   "source": [
    "Q1: Write a Python program to convert kilometers to miles?\n",
    "    \n",
    "Solution:\n",
    "    \n",
    "#1 kilometre equals 0.62137 miles.  \n",
    "#Miles = kilometre * 0.62137  "
   ]
  },
  {
   "cell_type": "code",
   "execution_count": 1,
   "id": "f282b572",
   "metadata": {},
   "outputs": [
    {
     "name": "stdout",
     "output_type": "stream",
     "text": [
      "Please enter the speed of car in Kilometre as a unit: 22\n",
      "The speed value of car in Miles:  13.670162\n"
     ]
    }
   ],
   "source": [
    "kilometre_1 = float (input (\"Please enter the speed of car in Kilometre as a unit: \"))  \n",
    "conversion_ratio_1 = 0.621371  \n",
    "miles_1 = kilometre_1 * conversion_ratio_1  \n",
    "print (\"The speed value of car in Miles: \", miles_1)  "
   ]
  },
  {
   "cell_type": "code",
   "execution_count": null,
   "id": "85c3b62b",
   "metadata": {},
   "outputs": [],
   "source": [
    "Q2:Write a Python program to convert Celsius to Fahrenheit? \n",
    "    \n",
    "Solution:"
   ]
  },
  {
   "cell_type": "code",
   "execution_count": 2,
   "id": "500e0181",
   "metadata": {},
   "outputs": [
    {
     "name": "stdout",
     "output_type": "stream",
     "text": [
      "enter temperature in celcius:32\n",
      "Temperature in Fahrenheit is: 89.6\n"
     ]
    }
   ],
   "source": [
    "celsius = float(input(\"enter temperature in celcius:\")) \n",
    "fahr = (celsius*9/5)+32 \n",
    "print(\"Temperature in Fahrenheit is:\", fahr)"
   ]
  },
  {
   "cell_type": "code",
   "execution_count": null,
   "id": "ff8084e8",
   "metadata": {},
   "outputs": [],
   "source": [
    "Q3: Write a Python program to display calendar?\n",
    "    \n",
    "Solution:"
   ]
  },
  {
   "cell_type": "code",
   "execution_count": 12,
   "id": "29085cbb",
   "metadata": {},
   "outputs": [
    {
     "name": "stdout",
     "output_type": "stream",
     "text": [
      "Enter year: 2021\n",
      "Enter month: 11\n",
      "   November 2021\n",
      "Mo Tu We Th Fr Sa Su\n",
      " 1  2  3  4  5  6  7\n",
      " 8  9 10 11 12 13 14\n",
      "15 16 17 18 19 20 21\n",
      "22 23 24 25 26 27 28\n",
      "29 30\n",
      "\n"
     ]
    }
   ],
   "source": [
    "# Program to display calendar.\n",
    "\n",
    "# importing calendar module\n",
    "import calendar\n",
    "\n",
    "yy = int(input(\"Enter year: \"))\n",
    "mm = int(input(\"Enter month: \"))\n",
    "\n",
    "# display the calendar\n",
    "print(calendar.month(yy,mm))"
   ]
  },
  {
   "cell_type": "code",
   "execution_count": null,
   "id": "4760834f",
   "metadata": {},
   "outputs": [],
   "source": [
    "Q4: Write a Python program to solve quadratic equation?\n",
    "    \n",
    "Solution:"
   ]
  },
  {
   "cell_type": "code",
   "execution_count": 16,
   "id": "a4a1f175",
   "metadata": {},
   "outputs": [
    {
     "name": "stdout",
     "output_type": "stream",
     "text": [
      "The solution are (-3+0j) and (-2+0j)\n"
     ]
    }
   ],
   "source": [
    "# Solve the quadratic equation ax**2 + bx + c = 0\n",
    "\n",
    "# import complex math module\n",
    "import cmath\n",
    "\n",
    "a = 1\n",
    "b = 5\n",
    "c = 6\n",
    "\n",
    "# calculate the discriminant\n",
    "d = (b**2) - (4*a*c)\n",
    "\n",
    "# find two solutions\n",
    "sol1 = (-b-cmath.sqrt(d))/(2*a)\n",
    "sol2 = (-b+cmath.sqrt(d))/(2*a)\n",
    "\n",
    "print('The solution are {0} and {1}'.format(sol1,sol2))"
   ]
  },
  {
   "cell_type": "code",
   "execution_count": null,
   "id": "d697da98",
   "metadata": {},
   "outputs": [],
   "source": [
    "Q5: Write a Python program to swap two variables without temp variable?\n",
    "    \n",
    "Solution:"
   ]
  },
  {
   "cell_type": "code",
   "execution_count": 17,
   "id": "2cfd6d43",
   "metadata": {},
   "outputs": [
    {
     "name": "stdout",
     "output_type": "stream",
     "text": [
      "Value of x: 50\n",
      "Value of y: 10\n"
     ]
    }
   ],
   "source": [
    "# swapping of two variables\n",
    " \n",
    "x = 10\n",
    "y = 50\n",
    " \n",
    "x, y = y, x\n",
    " \n",
    "print(\"Value of x:\", x)\n",
    "print(\"Value of y:\", y)"
   ]
  }
 ],
 "metadata": {
  "kernelspec": {
   "display_name": "Python 3 (ipykernel)",
   "language": "python",
   "name": "python3"
  },
  "language_info": {
   "codemirror_mode": {
    "name": "ipython",
    "version": 3
   },
   "file_extension": ".py",
   "mimetype": "text/x-python",
   "name": "python",
   "nbconvert_exporter": "python",
   "pygments_lexer": "ipython3",
   "version": "3.9.7"
  }
 },
 "nbformat": 4,
 "nbformat_minor": 5
}
